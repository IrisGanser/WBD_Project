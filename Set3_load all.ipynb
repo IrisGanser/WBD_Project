{
 "cells": [
  {
   "cell_type": "code",
   "execution_count": 2,
   "metadata": {},
   "outputs": [],
   "source": [
    "import numpy as np\n",
    "import pandas as pd\n",
    "import glob"
   ]
  },
  {
   "cell_type": "code",
   "execution_count": 3,
   "metadata": {},
   "outputs": [
    {
     "name": "stdout",
     "output_type": "stream",
     "text": [
      "/home/administrator/Documents/Web-based data/Project/MobilePhoneData/SET3/SET3_M03.CSV\n",
      "/home/administrator/Documents/Web-based data/Project/MobilePhoneData/SET3/SET3_M12.CSV\n",
      "/home/administrator/Documents/Web-based data/Project/MobilePhoneData/SET3/SET3_M10.CSV\n",
      "/home/administrator/Documents/Web-based data/Project/MobilePhoneData/SET3/SET3_M01.CSV\n",
      "/home/administrator/Documents/Web-based data/Project/MobilePhoneData/SET3/SET3_M08.CSV\n",
      "/home/administrator/Documents/Web-based data/Project/MobilePhoneData/SET3/SET3_M05.CSV\n",
      "/home/administrator/Documents/Web-based data/Project/MobilePhoneData/SET3/SET3_M07.CSV\n",
      "/home/administrator/Documents/Web-based data/Project/MobilePhoneData/SET3/SET3_M04.CSV\n",
      "/home/administrator/Documents/Web-based data/Project/MobilePhoneData/SET3/SET3_M02.CSV\n",
      "/home/administrator/Documents/Web-based data/Project/MobilePhoneData/SET3/SET3_M11.CSV\n",
      "/home/administrator/Documents/Web-based data/Project/MobilePhoneData/SET3/SET3_M06.CSV\n",
      "/home/administrator/Documents/Web-based data/Project/MobilePhoneData/SET3/SET3_M09.CSV\n"
     ]
    }
   ],
   "source": [
    "path = \"/home/administrator/Documents/Web-based data/Project/MobilePhoneData/SET3\" \n",
    "for files in glob.glob(path + \"/SET3_M*.CSV\"):\n",
    "    print(files)"
   ]
  },
  {
   "cell_type": "code",
   "execution_count": 4,
   "metadata": {},
   "outputs": [],
   "source": [
    "SET3_files = glob.glob(path + \"/SET3_M*.CSV\")\n",
    "\n",
    "SET3list = []\n",
    "\n",
    "for file in glob.glob(path + \"/SET3_M*.CSV\"):\n",
    "    df = pd.read_csv(file, index_col=None, header=None, names = [\"user_id\", \"timestamp\", \"arrondissement_id\"])\n",
    "    SET3list.append(df)"
   ]
  },
  {
   "cell_type": "code",
   "execution_count": null,
   "metadata": {},
   "outputs": [],
   "source": [
    "SET3frame = pd.concat(SET3list, axis=0, ignore_index=True)"
   ]
  },
  {
   "cell_type": "code",
   "execution_count": null,
   "metadata": {},
   "outputs": [],
   "source": [
    "# or:\n",
    "SET3frame = pd.concat(map(pd.read_csv, glob.glob(path + \"/SET3_M*.CSV\")))"
   ]
  }
 ],
 "metadata": {
  "kernelspec": {
   "display_name": "Python 3",
   "language": "python",
   "name": "python3"
  },
  "language_info": {
   "codemirror_mode": {
    "name": "ipython",
    "version": 3
   },
   "file_extension": ".py",
   "mimetype": "text/x-python",
   "name": "python",
   "nbconvert_exporter": "python",
   "pygments_lexer": "ipython3",
   "version": "3.7.3"
  }
 },
 "nbformat": 4,
 "nbformat_minor": 2
}

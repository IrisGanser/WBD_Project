{
 "cells": [
  {
   "cell_type": "code",
   "execution_count": 1,
   "metadata": {},
   "outputs": [],
   "source": [
    "import numpy as np\n",
    "import pandas as pd\n",
    "import glob\n",
    "import matplotlib.pyplot as plt\n",
    "import geopandas\n",
    "import descartes"
   ]
  },
  {
   "cell_type": "code",
   "execution_count": 2,
   "metadata": {},
   "outputs": [],
   "source": [
    "path = \"/home/administrator/Documents/Web-based-data/Project/MobilePhoneData/\"\n",
    "SET3_M01 = pd.read_csv(path + \"SET3/SET3_M01.CSV\", header = None, names = [\"user_id\", \"timestamp\", \"arrondissement_id\"])"
   ]
  },
  {
   "cell_type": "code",
   "execution_count": 3,
   "metadata": {},
   "outputs": [
    {
     "data": {
      "text/plain": [
       "Int64Index([ 29741, 115669, 145890, 145762, 101780,  92583,  28765,  87604,\n",
       "            101855, 107792, 127730,  92240,  13891,  86115,  48980, 101701,\n",
       "             91665,  87173,  25832,  78849,  41280,  81833, 148777,  33108,\n",
       "            115364, 127341, 129963,  27595,  71657,  45993,  29689, 128839,\n",
       "            111876,  43849, 112159,  17970,  12429,  68908,  74900,   6037,\n",
       "            124270,  67670,  35618,  87609,  88454,  77536,  26169, 115710,\n",
       "            119082,  57297, 122007,  51935,  94584, 139337,  79808,  84043,\n",
       "             85262, 117044,  12960,  75593, 117855, 114672, 127979, 123940,\n",
       "             56885,   8969,   1325, 100780,  96290,  50040, 103869,  50323,\n",
       "             10572,  87460,  31722,  17247,   5898,  45608,  70530, 133630,\n",
       "            127150,  26662,  79964, 117018,  58676, 124386, 116262,   6011,\n",
       "             25782,  96096,  52888,  28202,  26199, 115924,  92697,  37231,\n",
       "             65478,  47767, 136231,  13342],\n",
       "           dtype='int64')"
      ]
     },
     "execution_count": 3,
     "metadata": {},
     "output_type": "execute_result"
    }
   ],
   "source": [
    "most_active_users = SET3_M01.user_id.value_counts()[:100]\n",
    "most_active_users.index"
   ]
  },
  {
   "cell_type": "code",
   "execution_count": 5,
   "metadata": {},
   "outputs": [],
   "source": [
    "SET3_M01_most_active = SET3_M01[SET3_M01['user_id'].isin(most_active_users.index)]"
   ]
  },
  {
   "cell_type": "code",
   "execution_count": 38,
   "metadata": {},
   "outputs": [
    {
     "name": "stderr",
     "output_type": "stream",
     "text": [
      "/home/administrator/anaconda3/lib/python3.7/site-packages/ipykernel_launcher.py:1: SettingWithCopyWarning: \n",
      "A value is trying to be set on a copy of a slice from a DataFrame.\n",
      "Try using .loc[row_indexer,col_indexer] = value instead\n",
      "\n",
      "See the caveats in the documentation: http://pandas.pydata.org/pandas-docs/stable/indexing.html#indexing-view-versus-copy\n",
      "  \"\"\"Entry point for launching an IPython kernel.\n",
      "/home/administrator/anaconda3/lib/python3.7/site-packages/ipykernel_launcher.py:2: SettingWithCopyWarning: \n",
      "A value is trying to be set on a copy of a slice from a DataFrame.\n",
      "Try using .loc[row_indexer,col_indexer] = value instead\n",
      "\n",
      "See the caveats in the documentation: http://pandas.pydata.org/pandas-docs/stable/indexing.html#indexing-view-versus-copy\n",
      "  \n"
     ]
    }
   ],
   "source": [
    "SET3_M01_most_active['timestamp'] = pd.to_datetime(SET3_M01_most_active['timestamp'])\n",
    "SET3_M01_most_active['date'] = SET3_M01_most_active['timestamp'].dt.normalize()"
   ]
  },
  {
   "cell_type": "code",
   "execution_count": 39,
   "metadata": {},
   "outputs": [],
   "source": []
  },
  {
   "cell_type": "code",
   "execution_count": 41,
   "metadata": {},
   "outputs": [],
   "source": [
    "pref_arr_most_active = SET3_M01_most_active.groupby(['user_id', 'date'])['arrondissement_id'].agg(lambda x: pd.Series.mode(x)[0])"
   ]
  },
  {
   "cell_type": "code",
   "execution_count": 42,
   "metadata": {},
   "outputs": [
    {
     "data": {
      "text/plain": [
       "user_id  date      \n",
       "1325     2013-01-01    4\n",
       "         2013-01-02    4\n",
       "         2013-01-03    4\n",
       "         2013-01-04    4\n",
       "         2013-01-05    4\n",
       "Name: arrondissement_id, dtype: int64"
      ]
     },
     "execution_count": 42,
     "metadata": {},
     "output_type": "execute_result"
    }
   ],
   "source": [
    "pref_arr_most_active.head()"
   ]
  },
  {
   "cell_type": "code",
   "execution_count": 43,
   "metadata": {},
   "outputs": [
    {
     "name": "stderr",
     "output_type": "stream",
     "text": [
      "/home/administrator/anaconda3/lib/python3.7/site-packages/ipykernel_launcher.py:1: FutureWarning: The signature of `Series.to_csv` was aligned to that of `DataFrame.to_csv`, and argument 'header' will change its default value from False to True: please pass an explicit value to suppress this warning.\n",
      "  \"\"\"Entry point for launching an IPython kernel.\n"
     ]
    }
   ],
   "source": [
    "pref_arr_most_active.to_csv(\"/home/administrator/Documents/Web-based-data/Project/MobilePhoneData/SET3/MO1_pref_arr_most_active.csv\")"
   ]
  },
  {
   "cell_type": "code",
   "execution_count": 114,
   "metadata": {},
   "outputs": [],
   "source": [
    "pref_arr_most_active = pd.read_csv(\"/home/administrator/Documents/Web-based-data/Project/MobilePhoneData/SET3/MO1_pref_arr_most_active.csv\",\n",
    "                                  header = None, names = [\"user_id\", \"date\", \"pref_arr\"])"
   ]
  },
  {
   "cell_type": "code",
   "execution_count": 134,
   "metadata": {},
   "outputs": [
    {
     "data": {
      "text/html": [
       "<div>\n",
       "<style scoped>\n",
       "    .dataframe tbody tr th:only-of-type {\n",
       "        vertical-align: middle;\n",
       "    }\n",
       "\n",
       "    .dataframe tbody tr th {\n",
       "        vertical-align: top;\n",
       "    }\n",
       "\n",
       "    .dataframe thead th {\n",
       "        text-align: right;\n",
       "    }\n",
       "</style>\n",
       "<table border=\"1\" class=\"dataframe\">\n",
       "  <thead>\n",
       "    <tr style=\"text-align: right;\">\n",
       "      <th></th>\n",
       "      <th>user_id</th>\n",
       "      <th>date</th>\n",
       "      <th>pref_arr</th>\n",
       "      <th>end_arr</th>\n",
       "    </tr>\n",
       "  </thead>\n",
       "  <tbody>\n",
       "    <tr>\n",
       "      <th>0</th>\n",
       "      <td>1325</td>\n",
       "      <td>2013-01-01</td>\n",
       "      <td>4</td>\n",
       "      <td>4</td>\n",
       "    </tr>\n",
       "    <tr>\n",
       "      <th>1</th>\n",
       "      <td>1325</td>\n",
       "      <td>2013-01-02</td>\n",
       "      <td>4</td>\n",
       "      <td>4</td>\n",
       "    </tr>\n",
       "    <tr>\n",
       "      <th>2</th>\n",
       "      <td>1325</td>\n",
       "      <td>2013-01-03</td>\n",
       "      <td>4</td>\n",
       "      <td>4</td>\n",
       "    </tr>\n",
       "    <tr>\n",
       "      <th>3</th>\n",
       "      <td>1325</td>\n",
       "      <td>2013-01-04</td>\n",
       "      <td>4</td>\n",
       "      <td>4</td>\n",
       "    </tr>\n",
       "    <tr>\n",
       "      <th>4</th>\n",
       "      <td>1325</td>\n",
       "      <td>2013-01-05</td>\n",
       "      <td>4</td>\n",
       "      <td>4</td>\n",
       "    </tr>\n",
       "  </tbody>\n",
       "</table>\n",
       "</div>"
      ],
      "text/plain": [
       "   user_id        date  pref_arr  end_arr\n",
       "0     1325  2013-01-01         4        4\n",
       "1     1325  2013-01-02         4        4\n",
       "2     1325  2013-01-03         4        4\n",
       "3     1325  2013-01-04         4        4\n",
       "4     1325  2013-01-05         4        4"
      ]
     },
     "execution_count": 134,
     "metadata": {},
     "output_type": "execute_result"
    }
   ],
   "source": [
    "pref_arr_most_active.head()"
   ]
  },
  {
   "cell_type": "code",
   "execution_count": 118,
   "metadata": {},
   "outputs": [],
   "source": []
  },
  {
   "cell_type": "code",
   "execution_count": 47,
   "metadata": {},
   "outputs": [],
   "source": [
    "#pref_arr_most_active_wide = pref_arr_most_active.pivot(index='user_id', columns='date', values='pref_arr')"
   ]
  },
  {
   "cell_type": "code",
   "execution_count": 62,
   "metadata": {},
   "outputs": [],
   "source": [
    "#pref_arr_most_active_wide.head()"
   ]
  },
  {
   "cell_type": "code",
   "execution_count": 115,
   "metadata": {},
   "outputs": [],
   "source": [
    "pref_arr_most_active['end_arr'] = 0 "
   ]
  },
  {
   "cell_type": "code",
   "execution_count": 128,
   "metadata": {
    "scrolled": true
   },
   "outputs": [],
   "source": [
    "for index, row in pref_arr_most_active.iterrows():\n",
    "    \n",
    "    if row['date'] == '2013-01-31':\n",
    "        value = row['pref_arr']\n",
    "        pref_arr_most_active.iloc[index, pref_arr_most_active.columns.get_loc('end_arr')] = value\n",
    "        pref_arr_most_active.iloc[index-1, pref_arr_most_active.columns.get_loc('end_arr')] = value\n",
    "    \n",
    "    else:\n",
    "        value = row['pref_arr']\n",
    "        pref_arr_most_active.iloc[index-1, pref_arr_most_active.columns.get_loc('end_arr')] = value \n",
    "    \n",
    "        "
   ]
  },
  {
   "cell_type": "code",
   "execution_count": 130,
   "metadata": {},
   "outputs": [],
   "source": [
    "start_end_most_active = pref_arr_most_active.copy()"
   ]
  },
  {
   "cell_type": "code",
   "execution_count": 131,
   "metadata": {},
   "outputs": [],
   "source": [
    "start_end_most_active = start_end_most_active.rename(columns = {'pref_arr': 'start_arr'})"
   ]
  },
  {
   "cell_type": "code",
   "execution_count": 133,
   "metadata": {},
   "outputs": [],
   "source": [
    "start_end_most_active.to_csv(\"/home/administrator/Documents/Web-based-data/Project/MobilePhoneData/SET3/MO1_start_end_most_active.csv\")"
   ]
  },
  {
   "cell_type": "code",
   "execution_count": 139,
   "metadata": {},
   "outputs": [],
   "source": [
    "start_end_count = start_end_most_active.groupby(['start_arr', 'end_arr']).count()"
   ]
  },
  {
   "cell_type": "code",
   "execution_count": 141,
   "metadata": {},
   "outputs": [],
   "source": [
    "start_end_count = start_end_count.drop('date', 1)\n",
    "start_end_count = start_end_count.rename(columns = {'user_id': 'count'})"
   ]
  },
  {
   "cell_type": "code",
   "execution_count": 142,
   "metadata": {},
   "outputs": [
    {
     "data": {
      "text/html": [
       "<div>\n",
       "<style scoped>\n",
       "    .dataframe tbody tr th:only-of-type {\n",
       "        vertical-align: middle;\n",
       "    }\n",
       "\n",
       "    .dataframe tbody tr th {\n",
       "        vertical-align: top;\n",
       "    }\n",
       "\n",
       "    .dataframe thead th {\n",
       "        text-align: right;\n",
       "    }\n",
       "</style>\n",
       "<table border=\"1\" class=\"dataframe\">\n",
       "  <thead>\n",
       "    <tr style=\"text-align: right;\">\n",
       "      <th></th>\n",
       "      <th></th>\n",
       "      <th>count</th>\n",
       "    </tr>\n",
       "    <tr>\n",
       "      <th>start_arr</th>\n",
       "      <th>end_arr</th>\n",
       "      <th></th>\n",
       "    </tr>\n",
       "  </thead>\n",
       "  <tbody>\n",
       "    <tr>\n",
       "      <th rowspan=\"5\" valign=\"top\">1</th>\n",
       "      <th>1</th>\n",
       "      <td>410</td>\n",
       "    </tr>\n",
       "    <tr>\n",
       "      <th>2</th>\n",
       "      <td>24</td>\n",
       "    </tr>\n",
       "    <tr>\n",
       "      <th>3</th>\n",
       "      <td>25</td>\n",
       "    </tr>\n",
       "    <tr>\n",
       "      <th>4</th>\n",
       "      <td>15</td>\n",
       "    </tr>\n",
       "    <tr>\n",
       "      <th>5</th>\n",
       "      <td>5</td>\n",
       "    </tr>\n",
       "  </tbody>\n",
       "</table>\n",
       "</div>"
      ],
      "text/plain": [
       "                   count\n",
       "start_arr end_arr       \n",
       "1         1          410\n",
       "          2           24\n",
       "          3           25\n",
       "          4           15\n",
       "          5            5"
      ]
     },
     "execution_count": 142,
     "metadata": {},
     "output_type": "execute_result"
    }
   ],
   "source": [
    "start_end_count.head()"
   ]
  },
  {
   "cell_type": "code",
   "execution_count": 143,
   "metadata": {},
   "outputs": [],
   "source": [
    "start_end_count.to_csv(\"/home/administrator/Documents/Web-based-data/Project/MobilePhoneData/SET3/MO1_start_end_count.csv\")"
   ]
  },
  {
   "cell_type": "code",
   "execution_count": null,
   "metadata": {},
   "outputs": [],
   "source": []
  }
 ],
 "metadata": {
  "kernelspec": {
   "display_name": "Python 3",
   "language": "python",
   "name": "python3"
  },
  "language_info": {
   "codemirror_mode": {
    "name": "ipython",
    "version": 3
   },
   "file_extension": ".py",
   "mimetype": "text/x-python",
   "name": "python",
   "nbconvert_exporter": "python",
   "pygments_lexer": "ipython3",
   "version": "3.7.3"
  }
 },
 "nbformat": 4,
 "nbformat_minor": 2
}
